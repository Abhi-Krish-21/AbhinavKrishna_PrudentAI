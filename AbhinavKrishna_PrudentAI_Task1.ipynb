{
  "nbformat": 4,
  "nbformat_minor": 0,
  "metadata": {
    "colab": {
      "provenance": []
    },
    "kernelspec": {
      "name": "python3",
      "display_name": "Python 3"
    },
    "language_info": {
      "name": "python"
    }
  },
  "cells": [
    {
      "cell_type": "code",
      "execution_count": 1,
      "metadata": {
        "colab": {
          "base_uri": "https://localhost:8080/"
        },
        "id": "d3V7zyn8mx9x",
        "outputId": "aac2e21d-6155-4258-e33e-ed2c9f06b600"
      },
      "outputs": [
        {
          "output_type": "stream",
          "name": "stdout",
          "text": [
            "-1\n"
          ]
        }
      ],
      "source": [
        "def find_starting_index(people, food_parcels):\n",
        "    n = len(people)\n",
        "    i = 0\n",
        "\n",
        "    while i < n:\n",
        "        remaining_food = sum(food_parcels)\n",
        "        for j in range(i, n+i):\n",
        "            remaining_food -= people[j % n]\n",
        "            if remaining_food < 0:\n",
        "                return -1\n",
        "        if sum(food_parcels) == remaining_food:\n",
        "            return i\n",
        "        else:\n",
        "            food_parcels[i % n] = remaining_food\n",
        "            i += 1\n",
        "\n",
        "    return -1\n",
        "\n",
        "food_parcels = [1, 2, 3, 4, 5]\n",
        "people = [3, 4, 5, 1, 2]\n",
        "\n",
        "result = find_starting_index(people, food_parcels)\n",
        "print(result)"
      ]
    },
    {
      "cell_type": "code",
      "source": [],
      "metadata": {
        "id": "YdczY_nXfSIL"
      },
      "execution_count": null,
      "outputs": []
    }
  ]
}